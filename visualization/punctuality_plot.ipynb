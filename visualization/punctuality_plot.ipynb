{
 "cells": [
  {
   "cell_type": "code",
   "execution_count": 4,
   "metadata": {},
   "outputs": [
    {
     "name": "stderr",
     "output_type": "stream",
     "text": [
      "/home/szymon/.local/lib/python3.9/site-packages/matplotlib/projections/__init__.py:63: UserWarning: Unable to import Axes3D. This may be due to multiple versions of Matplotlib being installed (e.g. as a system package and as a pip package). As a result, the 3D projection is not available.\n",
      "  warnings.warn(\"Unable to import Axes3D. This may be due to multiple versions of \"\n"
     ]
    }
   ],
   "source": [
    "from visualization.punctuality import get_delays, filter_delays\n",
    "import folium\n",
    "import matplotlib.pyplot as plt"
   ]
  },
  {
   "cell_type": "code",
   "execution_count": 5,
   "metadata": {},
   "outputs": [
    {
     "name": "stderr",
     "output_type": "stream",
     "text": [
      " 28%|██▊       | 70/254 [14:01<1:06:25, 21.66s/it]"
     ]
    }
   ],
   "source": [
    "delays_17 = get_delays(17)\n",
    "delays_17_filtered = filter_delays(delays_17, 5)"
   ]
  },
  {
   "cell_type": "code",
   "execution_count": null,
   "metadata": {},
   "outputs": [
    {
     "name": "stderr",
     "output_type": "stream",
     "text": [
      "100%|██████████| 284/284 [13:43<00:00,  2.90s/it]\n"
     ]
    }
   ],
   "source": [
    "delays_2 = get_delays(2)\n",
    "delays_2_filtered = filter_delays(delays_2, 5)"
   ]
  },
  {
   "cell_type": "code",
   "execution_count": 5,
   "metadata": {},
   "outputs": [
    {
     "name": "stdout",
     "output_type": "stream",
     "text": [
      "13393\n",
      "0\n"
     ]
    }
   ],
   "source": [
    "print(len(delays_17))\n",
    "print(len(delays_2))\n",
    "\n",
    "delays_17_number = len(delays_17_filtered)\n",
    "delays_2_number = len(delays_2_filtered)\n",
    "\n",
    "plt.xlabel('Hour')\n",
    "plt.ylabel('Number of delays')\n",
    "\n",
    "plt.plot(delays_2_number, label='2-3')\n",
    "plt.plot(delays_17_number, label='17-18')"
   ]
  },
  {
   "cell_type": "code",
   "execution_count": null,
   "metadata": {},
   "outputs": [],
   "source": []
  }
 ],
 "metadata": {
  "kernelspec": {
   "display_name": "Python 3",
   "language": "python",
   "name": "python3"
  },
  "language_info": {
   "codemirror_mode": {
    "name": "ipython",
    "version": 3
   },
   "file_extension": ".py",
   "mimetype": "text/x-python",
   "name": "python",
   "nbconvert_exporter": "python",
   "pygments_lexer": "ipython3",
   "version": "3.9.2"
  }
 },
 "nbformat": 4,
 "nbformat_minor": 2
}
