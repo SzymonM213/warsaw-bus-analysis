{
 "cells": [
  {
   "cell_type": "code",
   "execution_count": 36,
   "metadata": {},
   "outputs": [],
   "source": [
    "import pandas as pd\n",
    "from typing import Dict\n",
    "from visualization.utils import WARSAW_CENTER, calculate_distance\n",
    "from tqdm import tqdm"
   ]
  },
  {
   "cell_type": "code",
   "execution_count": 37,
   "metadata": {},
   "outputs": [],
   "source": [
    "RADIUS = 1\n",
    "\n",
    "def in_center(lat: float, lon: float) -> bool:\n",
    "    return calculate_distance((lat, lon), (WARSAW_CENTER[0], WARSAW_CENTER[1])) < RADIUS"
   ]
  },
  {
   "cell_type": "code",
   "execution_count": 38,
   "metadata": {},
   "outputs": [],
   "source": [
    "def get_vehicles_in_center(df: pd.DataFrame) -> pd.DataFrame:\n",
    "    all_positions = df[df.apply(lambda x: in_center(x['Lat'], x['Lon']), axis=1)]\n",
    "    return all_positions['VehicleNumber'].unique()"
   ]
  },
  {
   "cell_type": "code",
   "execution_count": 39,
   "metadata": {},
   "outputs": [],
   "source": [
    "def filter_idle_vehicles(df: pd.DataFrame) -> pd.DataFrame:\n",
    "    for vehicle in df['VehicleNumber'].unique():\n",
    "        vehicle_positions = df[df['VehicleNumber'] == vehicle]\n",
    "        if calculate_distance((vehicle_positions['Lat'].max(), vehicle_positions['Lon'].max()), (vehicle_positions['Lat'].min(), vehicle_positions['Lon'].min())) < 0.1:\n",
    "            df = df[df['VehicleNumber'] != vehicle]\n",
    "    return df"
   ]
  },
  {
   "cell_type": "code",
   "execution_count": 41,
   "metadata": {},
   "outputs": [],
   "source": [
    "hours = [i for i in range(2, 6)] + [i for i in range(15, 19)]"
   ]
  },
  {
   "cell_type": "code",
   "execution_count": 42,
   "metadata": {},
   "outputs": [
    {
     "name": "stderr",
     "output_type": "stream",
     "text": [
      " 12%|█▎        | 1/8 [00:33<03:52, 33.18s/it]"
     ]
    },
    {
     "name": "stdout",
     "output_type": "stream",
     "text": [
      "not idle buses for 2: 196\n",
      "buses in center for 2: 65\n"
     ]
    },
    {
     "name": "stderr",
     "output_type": "stream",
     "text": [
      " 25%|██▌       | 2/8 [01:10<03:34, 35.82s/it]"
     ]
    },
    {
     "name": "stdout",
     "output_type": "stream",
     "text": [
      "not idle buses for 3: 351\n",
      "buses in center for 3: 64\n"
     ]
    },
    {
     "name": "stderr",
     "output_type": "stream",
     "text": [
      " 38%|███▊      | 3/8 [01:58<03:25, 41.01s/it]"
     ]
    },
    {
     "name": "stdout",
     "output_type": "stream",
     "text": [
      "not idle buses for 4: 950\n",
      "buses in center for 4: 92\n"
     ]
    },
    {
     "name": "stderr",
     "output_type": "stream",
     "text": [
      " 50%|█████     | 4/8 [02:47<02:57, 44.39s/it]"
     ]
    },
    {
     "name": "stdout",
     "output_type": "stream",
     "text": [
      "not idle buses for 5: 1324\n",
      "buses in center for 5: 164\n"
     ]
    },
    {
     "name": "stderr",
     "output_type": "stream",
     "text": [
      " 62%|██████▎   | 5/8 [03:35<02:16, 45.49s/it]"
     ]
    },
    {
     "name": "stdout",
     "output_type": "stream",
     "text": [
      "not idle buses for 15: 1525\n",
      "buses in center for 15: 268\n"
     ]
    },
    {
     "name": "stderr",
     "output_type": "stream",
     "text": [
      " 75%|███████▌  | 6/8 [04:21<01:31, 45.97s/it]"
     ]
    },
    {
     "name": "stdout",
     "output_type": "stream",
     "text": [
      "not idle buses for 16: 1527\n",
      "buses in center for 16: 257\n"
     ]
    },
    {
     "name": "stderr",
     "output_type": "stream",
     "text": [
      " 88%|████████▊ | 7/8 [05:11<00:47, 47.07s/it]"
     ]
    },
    {
     "name": "stdout",
     "output_type": "stream",
     "text": [
      "not idle buses for 17: 1522\n",
      "buses in center for 17: 250\n"
     ]
    },
    {
     "name": "stderr",
     "output_type": "stream",
     "text": [
      "100%|██████████| 8/8 [06:02<00:00, 45.31s/it]"
     ]
    },
    {
     "name": "stdout",
     "output_type": "stream",
     "text": [
      "not idle buses for 18: 1526\n",
      "buses in center for 18: 260\n"
     ]
    },
    {
     "name": "stderr",
     "output_type": "stream",
     "text": [
      "\n"
     ]
    }
   ],
   "source": [
    "buses_location: Dict[int, pd.DataFrame] = {}\n",
    "buses_in_center: Dict[int, int] = {}\n",
    "\n",
    "for hour in tqdm(hours):\n",
    "    buses_location[hour] = pd.read_json(f'../data/buses-{hour}.json')\n",
    "    buses_location[hour] = filter_idle_vehicles(buses_location[hour])\n",
    "    buses_in_center[hour] = len(get_vehicles_in_center(buses_location[hour]))\n"
   ]
  },
  {
   "cell_type": "code",
   "execution_count": 43,
   "metadata": {},
   "outputs": [],
   "source": [
    "buses_in_center = {k: v / len(buses_location[k]['VehicleNumber'].unique()) for k, v in buses_in_center.items()}"
   ]
  },
  {
   "cell_type": "code",
   "execution_count": 50,
   "metadata": {},
   "outputs": [
    {
     "data": {
      "image/png": "[encoded data removed]",
      "text/plain": [
       "<Figure size 640x480 with 1 Axes>"
      ]
     },
     "metadata": {},
     "output_type": "display_data"
    }
   ],
   "source": [
    "# for each hour, plot the frequency of buses in the center\n",
    "import matplotlib.pyplot as plt\n",
    "\n",
    "plt.bar(buses_in_center.keys(), buses_in_center.values())\n",
    "plt.xticks(hours)\n",
    "plt.xlabel('Hour')\n",
    "plt.ylabel('Buses in center rate')\n",
    "plt.show()"
   ]
  },
  {
   "cell_type": "code",
   "execution_count": null,
   "metadata": {},
   "outputs": [],
   "source": []
  }
 ],
 "metadata": {
  "kernelspec": {
   "display_name": "Python 3",
   "language": "python",
   "name": "python3"
  },
  "language_info": {
   "codemirror_mode": {
    "name": "ipython",
    "version": 3
   },
   "file_extension": ".py",
   "mimetype": "text/x-python",
   "name": "python",
   "nbconvert_exporter": "python",
   "pygments_lexer": "ipython3",
   "version": "3.9.2"
  }
 },
 "nbformat": 4,
 "nbformat_minor": 2
}
