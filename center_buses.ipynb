{
 "cells": [
  {
   "cell_type": "markdown",
   "metadata": {},
   "source": [
    "### Let's check the rate of buses riding across Warsaw Center Railway Station to find out if night buses ride there more often than day buses."
   ]
  },
  {
   "cell_type": "code",
   "execution_count": 1,
   "metadata": {},
   "outputs": [],
   "source": [
    "import pandas as pd\n",
    "from typing import Dict\n",
    "from visualization.utils import calculate_distance\n",
    "from tqdm import tqdm"
   ]
  },
  {
   "cell_type": "code",
   "execution_count": 2,
   "metadata": {},
   "outputs": [],
   "source": [
    "RADIUS = 0.2\n",
    "WARSAW_CENTER_STATION = (52.22913267831352, 21.003211049757706)\n",
    "\n",
    "def in_center(lat: float, lon: float) -> bool:\n",
    "    return calculate_distance((lat, lon), (WARSAW_CENTER_STATION[0], WARSAW_CENTER_STATION[1])) < RADIUS"
   ]
  },
  {
   "cell_type": "code",
   "execution_count": 3,
   "metadata": {},
   "outputs": [],
   "source": [
    "def get_vehicles_in_center(df: pd.DataFrame) -> pd.DataFrame:\n",
    "    all_positions = df[df.apply(lambda x: in_center(x['Lat'], x['Lon']), axis=1)]\n",
    "    return all_positions['VehicleNumber'].unique()"
   ]
  },
  {
   "cell_type": "code",
   "execution_count": 4,
   "metadata": {},
   "outputs": [],
   "source": [
    "def filter_idle_vehicles(df: pd.DataFrame) -> pd.DataFrame:\n",
    "    for vehicle in df['VehicleNumber'].unique():\n",
    "        vehicle_positions = df[df['VehicleNumber'] == vehicle]\n",
    "        if calculate_distance((vehicle_positions['Lat'].max(), vehicle_positions['Lon'].max()), (vehicle_positions['Lat'].min(), vehicle_positions['Lon'].min())) < 0.1:\n",
    "            df = df[df['VehicleNumber'] != vehicle]\n",
    "    return df"
   ]
  },
  {
   "cell_type": "code",
   "execution_count": 5,
   "metadata": {},
   "outputs": [],
   "source": [
    "hours = [i for i in range(2, 6)] + [i for i in range(15, 19)]"
   ]
  },
  {
   "cell_type": "code",
   "execution_count": 6,
   "metadata": {},
   "outputs": [
    {
     "name": "stderr",
     "output_type": "stream",
     "text": [
      "100%|██████████| 8/8 [04:12<00:00, 31.50s/it]\n"
     ]
    }
   ],
   "source": [
    "buses_location: Dict[int, pd.DataFrame] = {}\n",
    "buses_in_center: Dict[int, int] = {}\n",
    "\n",
    "for hour in tqdm(hours):\n",
    "    buses_location[hour] = pd.read_json(f'data/buses-{hour}.json')\n",
    "    buses_location[hour] = filter_idle_vehicles(buses_location[hour])\n",
    "    buses_in_center[hour] = len(get_vehicles_in_center(buses_location[hour]))\n"
   ]
  },
  {
   "cell_type": "code",
   "execution_count": 7,
   "metadata": {},
   "outputs": [],
   "source": [
    "buses_in_center = {k: v / len(buses_location[k]['VehicleNumber'].unique()) for k, v in buses_in_center.items()}"
   ]
  },
  {
   "cell_type": "code",
   "execution_count": 8,
   "metadata": {},
   "outputs": [
    {
     "name": "stderr",
     "output_type": "stream",
     "text": [
      "/home/szymon/.local/lib/python3.9/site-packages/matplotlib/projections/__init__.py:63: UserWarning: Unable to import Axes3D. This may be due to multiple versions of Matplotlib being installed (e.g. as a system package and as a pip package). As a result, the 3D projection is not available.\n",
      "  warnings.warn(\"Unable to import Axes3D. This may be due to multiple versions of \"\n"
     ]
    },
    {
     "data": {
      "image/png": "[encoded data removed]",
      "text/plain": [
       "<Figure size 640x480 with 1 Axes>"
      ]
     },
     "metadata": {},
     "output_type": "display_data"
    }
   ],
   "source": [
    "import matplotlib.pyplot as plt\n",
    "\n",
    "plt.bar(buses_in_center.keys(), buses_in_center.values())\n",
    "plt.xticks(hours)\n",
    "plt.xlabel('Hour')\n",
    "plt.ylabel('Buses in center rate')\n",
    "plt.show()"
   ]
  }
 ],
 "metadata": {
  "kernelspec": {
   "display_name": "Python 3",
   "language": "python",
   "name": "python3"
  },
  "language_info": {
   "codemirror_mode": {
    "name": "ipython",
    "version": 3
   },
   "file_extension": ".py",
   "mimetype": "text/x-python",
   "name": "python",
   "nbconvert_exporter": "python",
   "pygments_lexer": "ipython3",
   "version": "3.9.2"
  }
 },
 "nbformat": 4,
 "nbformat_minor": 2
}
