{
 "cells": [
  {
   "cell_type": "code",
   "execution_count": 1,
   "metadata": {},
   "outputs": [],
   "source": [
    "import cProfile\n",
    "import pstats"
   ]
  },
  {
   "cell_type": "markdown",
   "metadata": {},
   "source": [
    "### 1. Punctuality profiling"
   ]
  },
  {
   "cell_type": "code",
   "execution_count": 2,
   "metadata": {},
   "outputs": [],
   "source": [
    "from visualization.punctuality import get_delays_from_hour"
   ]
  },
  {
   "cell_type": "code",
   "execution_count": 3,
   "metadata": {},
   "outputs": [],
   "source": [
    "profiler = cProfile.Profile()\n",
    "profiler.enable()"
   ]
  },
  {
   "cell_type": "code",
   "execution_count": 4,
   "metadata": {},
   "outputs": [
    {
     "name": "stderr",
     "output_type": "stream",
     "text": [
      "100%|██████████| 254/254 [04:56<00:00,  1.17s/it]\n"
     ]
    }
   ],
   "source": [
    "delays_17 = get_delays_from_hour(17)"
   ]
  },
  {
   "cell_type": "code",
   "execution_count": 5,
   "metadata": {},
   "outputs": [],
   "source": [
    "profiler.disable()"
   ]
  },
  {
   "cell_type": "code",
   "execution_count": 6,
   "metadata": {},
   "outputs": [],
   "source": [
    "profiler.dump_stats('profiling_results_punctuality.prof')\n",
    "stats = pstats.Stats('profiling_results_punctuality.prof')"
   ]
  },
  {
   "cell_type": "code",
   "execution_count": 7,
   "metadata": {},
   "outputs": [
    {
     "data": {
      "text/plain": [
       "<pstats.Stats at 0x7fbb985e2e20>"
      ]
     },
     "execution_count": 7,
     "metadata": {},
     "output_type": "execute_result"
    }
   ],
   "source": [
    "stats.strip_dirs()\n",
    "stats.sort_stats('cumtime')"
   ]
  },
  {
   "cell_type": "code",
   "execution_count": 8,
   "metadata": {},
   "outputs": [
    {
     "name": "stdout",
     "output_type": "stream",
     "text": [
      "Sun Feb 18 15:19:42 2024    profiling_results_punctuality.prof\n",
      "\n",
      "         86840331 function calls (85098948 primitive calls) in 297.804 seconds\n",
      "\n",
      "   Ordered by: cumulative time\n",
      "   List reduced from 1780 to 8 due to restriction <'punctuality.py'>\n",
      "\n",
      "   ncalls  tottime  percall  cumtime  percall filename:lineno(function)\n",
      "        1    0.024    0.024  297.779  297.779 punctuality.py:143(get_delays_from_hour)\n",
      "        1    0.049    0.049  297.754  297.754 punctuality.py:110(get_delays)\n",
      "      508    0.016    0.000  226.979    0.447 punctuality.py:9(get_line_schedule)\n",
      "      254    2.237    0.009  162.897    0.641 punctuality.py:64(get_stop_schedule)\n",
      "      254    0.181    0.001  133.655    0.526 punctuality.py:43(get_line_stops)\n",
      "      254    1.642    0.006  125.322    0.493 punctuality.py:22(get_line_bus_stops)\n",
      "   675236    0.098    0.000    0.098    0.000 punctuality.py:78(<lambda>)\n",
      "   266134    0.037    0.000    0.037    0.000 punctuality.py:127(<lambda>)\n",
      "\n",
      "\n"
     ]
    },
    {
     "data": {
      "text/plain": [
       "<pstats.Stats at 0x7fbb985e2e20>"
      ]
     },
     "execution_count": 8,
     "metadata": {},
     "output_type": "execute_result"
    }
   ],
   "source": [
    "stats.print_stats('punctuality.py')"
   ]
  },
  {
   "cell_type": "markdown",
   "metadata": {},
   "source": [
    "- Po liczbach wywołań funkcji można zauważyć, że między godzina 17, a 18 było 254 aktywnych linii autobusowych (bo funkcje wywoływane dla każdej linii zostały wywołane 254 razy).\n",
    "- Stosunkowo dużo czasu (łącznie 230 sekund) zajmuje wywołanie funkcji get_line_schedule dlatego, że za każdym razem otwiera ona duży plik (35 MB) csv ze wszystkimi rozkładami jazdy i filtruje go dla danej linii."
   ]
  },
  {
   "cell_type": "markdown",
   "metadata": {},
   "source": [
    "### 2. Overspeed profiling"
   ]
  },
  {
   "cell_type": "code",
   "execution_count": 9,
   "metadata": {},
   "outputs": [],
   "source": [
    "from visualization.overspeed import count_overspeeding_vehicles_from_hour"
   ]
  },
  {
   "cell_type": "code",
   "execution_count": 10,
   "metadata": {},
   "outputs": [],
   "source": [
    "profiler = cProfile.Profile()\n",
    "profiler.enable()"
   ]
  },
  {
   "cell_type": "code",
   "execution_count": 11,
   "metadata": {},
   "outputs": [
    {
     "name": "stderr",
     "output_type": "stream",
     "text": [
      "100%|██████████| 1738/1738 [13:10<00:00,  2.20it/s] \n"
     ]
    }
   ],
   "source": [
    "overspeeding_vehicles_2, street_to_overspeeds_2 = count_overspeeding_vehicles_from_hour(2)"
   ]
  },
  {
   "cell_type": "code",
   "execution_count": 12,
   "metadata": {},
   "outputs": [],
   "source": [
    "profiler.disable()"
   ]
  },
  {
   "cell_type": "code",
   "execution_count": 13,
   "metadata": {},
   "outputs": [],
   "source": [
    "profiler.dump_stats('profiling_results_overspeed.prof')\n",
    "stats = pstats.Stats('profiling_results_overspeed.prof')"
   ]
  },
  {
   "cell_type": "code",
   "execution_count": 14,
   "metadata": {},
   "outputs": [
    {
     "data": {
      "text/plain": [
       "<pstats.Stats at 0x7fbb332385e0>"
      ]
     },
     "execution_count": 14,
     "metadata": {},
     "output_type": "execute_result"
    }
   ],
   "source": [
    "stats.strip_dirs()\n",
    "stats.sort_stats('cumtime')"
   ]
  },
  {
   "cell_type": "code",
   "execution_count": 15,
   "metadata": {},
   "outputs": [
    {
     "name": "stdout",
     "output_type": "stream",
     "text": [
      "Sun Feb 18 15:32:54 2024    profiling_results_overspeed.prof\n",
      "\n",
      "         40676079 function calls (40252203 primitive calls) in 791.684 seconds\n",
      "\n",
      "   Ordered by: cumulative time\n",
      "   List reduced from 1856 to 10 due to restriction <'overspeed.py'>\n",
      "\n",
      "   ncalls  tottime  percall  cumtime  percall filename:lineno(function)\n",
      "        1    0.067    0.067  791.702  791.702 overspeed.py:129(count_overspeeding_vehicles_from_hour)\n",
      "        1    0.151    0.151  791.635  791.635 overspeed.py:83(count_overspeeding_vehicles)\n",
      "     1052    0.025    0.000  773.071    0.735 overspeed.py:72(get_street)\n",
      "     1738    0.049    0.000   14.203    0.008 overspeed.py:50(calculate_speeds)\n",
      "    50979    0.083    0.000    9.891    0.000 overspeed.py:66(<lambda>)\n",
      "    50979    0.056    0.000    8.367    0.000 overspeed.py:30(calculate_speed)\n",
      "     2255    0.001    0.000    0.002    0.000 overspeed.py:27(__hash__)\n",
      "     1052    0.001    0.000    0.001    0.000 overspeed.py:12(__init__)\n",
      "      966    0.001    0.000    0.001    0.000 overspeed.py:23(__eq__)\n",
      "      360    0.000    0.000    0.000    0.000 overspeed.py:122(<lambda>)\n",
      "\n",
      "\n"
     ]
    },
    {
     "data": {
      "text/plain": [
       "<pstats.Stats at 0x7fbb332385e0>"
      ]
     },
     "execution_count": 15,
     "metadata": {},
     "output_type": "execute_result"
    }
   ],
   "source": [
    "stats.print_stats('overspeed.py')"
   ]
  },
  {
   "cell_type": "markdown",
   "metadata": {},
   "source": [
    "- Tutaj bardzo dobrze widać, że \"najdroższą\" czasowo funkcją jest get_street, która 1052 razy (tyle razy jest wywoływana) wykonuje zapytanie do api o nazwę ulicy dla konkretnych współrzędnych.\n",
    "- Wykonywanie zapytań do api jest dużo kosztowniejsze niż wykonywanie obliczeń, nawet w Pythonie."
   ]
  },
  {
   "cell_type": "markdown",
   "metadata": {},
   "source": []
  }
 ],
 "metadata": {
  "kernelspec": {
   "display_name": "Python 3",
   "language": "python",
   "name": "python3"
  },
  "language_info": {
   "codemirror_mode": {
    "name": "ipython",
    "version": 3
   },
   "file_extension": ".py",
   "mimetype": "text/x-python",
   "name": "python",
   "nbconvert_exporter": "python",
   "pygments_lexer": "ipython3",
   "version": "3.9.2"
  }
 },
 "nbformat": 4,
 "nbformat_minor": 2
}
